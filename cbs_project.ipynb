{
 "cells": [
  {
   "cell_type": "code",
   "execution_count": 1,
   "id": "0a86787f",
   "metadata": {},
   "outputs": [],
   "source": [
    "import h5py\n",
    "import numpy as np"
   ]
  },
  {
   "cell_type": "code",
   "execution_count": 5,
   "id": "367c5c02",
   "metadata": {},
   "outputs": [],
   "source": [
    "train = h5py.File('rna-train.hdf5')\n",
    "events = train.get('events')\n",
    "labels = train.get('labels')\n",
    "labels_len = train.get('labels_len')"
   ]
  },
  {
   "cell_type": "code",
   "execution_count": 59,
   "id": "63007b70",
   "metadata": {},
   "outputs": [
    {
     "data": {
      "text/plain": [
       "<HDF5 dataset \"events\": shape (1000002, 4096), type \"<f4\">"
      ]
     },
     "execution_count": 59,
     "metadata": {},
     "output_type": "execute_result"
    }
   ],
   "source": [
    "events"
   ]
  },
  {
   "cell_type": "markdown",
   "id": "2cf9a49b",
   "metadata": {},
   "source": [
    "## randomly pick indexes, which will be used to reduce data"
   ]
  },
  {
   "cell_type": "code",
   "execution_count": 13,
   "id": "20c5f50d",
   "metadata": {},
   "outputs": [],
   "source": [
    "import random\n",
    "random.seed(123)\n",
    "chosen_arrays = sorted(random.sample(range(0,1000003), 10000))"
   ]
  },
  {
   "cell_type": "code",
   "execution_count": 19,
   "id": "06431b1a",
   "metadata": {},
   "outputs": [],
   "source": [
    "reduce_events = events[chosen_arrays]\n",
    "reduce_labels = labels[chosen_arrays]\n",
    "reduce_labels_len = labels_len[chosen_arrays]"
   ]
  },
  {
   "cell_type": "code",
   "execution_count": 27,
   "id": "334285a2",
   "metadata": {},
   "outputs": [
    {
     "data": {
      "text/plain": [
       "(10000,)"
      ]
     },
     "execution_count": 27,
     "metadata": {},
     "output_type": "execute_result"
    }
   ],
   "source": [
    "reduce_labels_len.shape"
   ]
  },
  {
   "cell_type": "markdown",
   "id": "a466503e",
   "metadata": {},
   "source": [
    "## create reduced files for training"
   ]
  },
  {
   "cell_type": "code",
   "execution_count": 39,
   "id": "caed0735",
   "metadata": {},
   "outputs": [],
   "source": [
    "with h5py.File('reduce-train-rna.hdf5', 'w') as train_out:\n",
    "    train_out.create_dataset('events', shape=(reduce_events.shape[0], reduce_events.shape[1]), dtype='f4')\n",
    "    train_out.create_dataset('labels', shape=(reduce_labels.shape[0], reduce_labels.shape[1]), dtype='i8')\n",
    "    train_out.create_dataset('labels_len', shape=(reduce_labels_len.shape[0],), dtype='i8')\n",
    "    train_out['events'][:] = reduce_events\n",
    "    train_out['labels'][:] = reduce_labels\n",
    "    train_out['labels_len'][:] = reduce_labels_len\n"
   ]
  },
  {
   "cell_type": "markdown",
   "id": "adeb7c69",
   "metadata": {},
   "source": [
    "## repeat steps for valid data"
   ]
  },
  {
   "cell_type": "code",
   "execution_count": 48,
   "id": "6cd7dd63",
   "metadata": {},
   "outputs": [],
   "source": [
    "valid = h5py.File('rna-valid.hdf5')\n",
    "events_val = valid.get('events')\n",
    "labels_val = valid.get('labels')\n",
    "labels_len_val = valid.get('labels_len')"
   ]
  },
  {
   "cell_type": "code",
   "execution_count": 49,
   "id": "04695263",
   "metadata": {},
   "outputs": [],
   "source": [
    "random.seed(123)\n",
    "chosen_arrays_val = sorted(random.sample(range(0,100003), 1000))"
   ]
  },
  {
   "cell_type": "code",
   "execution_count": 50,
   "id": "85a04a5e",
   "metadata": {},
   "outputs": [],
   "source": [
    "reduce_events_val = events_val[chosen_arrays_val]\n",
    "reduce_labels_val = labels_val[chosen_arrays_val]\n",
    "reduce_labels_len_val = labels_len_val[chosen_arrays_val]"
   ]
  },
  {
   "cell_type": "code",
   "execution_count": 52,
   "id": "bd8bba1a",
   "metadata": {},
   "outputs": [],
   "source": [
    "with h5py.File('reduce-valid-rna.hdf5', 'w') as valid_out:\n",
    "    valid_out.create_dataset('events', shape=(reduce_events_val.shape[0], reduce_events_val.shape[1]), dtype='f4')\n",
    "    valid_out.create_dataset('labels', shape=(reduce_labels_val.shape[0], reduce_labels_val.shape[1]), dtype='i8')\n",
    "    valid_out.create_dataset('labels_len', shape=(reduce_labels_len_val.shape[0],), dtype='i8')\n",
    "    valid_out['events'][:] = reduce_events_val\n",
    "    valid_out['labels'][:] = reduce_labels_val\n",
    "    valid_out['labels_len'][:] = reduce_labels_len_val"
   ]
  },
  {
   "cell_type": "code",
   "execution_count": 55,
   "id": "b11529d9",
   "metadata": {},
   "outputs": [
    {
     "data": {
      "text/plain": [
       "array([[-0.8431134 , -0.7847441 , -0.7069182 , ...,  1.1544169 ,\n",
       "         1.2257572 ,  1.3489815 ],\n",
       "       [-0.6538431 , -0.7364338 , -0.57813495, ...,  0.02753023,\n",
       "        -0.2821849 ,  0.1995942 ],\n",
       "       [ 1.5648186 ,  0.65425605,  0.8903278 , ..., -0.5530824 ,\n",
       "        -0.54633754, -0.65425605],\n",
       "       ...,\n",
       "       [ 1.3429593 ,  0.40951225,  0.7106242 , ..., -0.31315643,\n",
       "        -0.27100074, -0.69255745],\n",
       "       [ 1.3571079 ,  1.4383719 ,  1.4058663 , ..., -0.9589146 ,\n",
       "        -0.9182826 , -0.9345354 ],\n",
       "       [ 0.12442063, -0.23574434,  0.14406599, ..., -1.1525279 ,\n",
       "        -1.1263341 , -1.1328826 ]], dtype=float32)"
      ]
     },
     "execution_count": 55,
     "metadata": {},
     "output_type": "execute_result"
    }
   ],
   "source": []
  },
  {
   "cell_type": "code",
   "execution_count": 11,
   "id": "e0b6c983",
   "metadata": {},
   "outputs": [],
   "source": [
    "h5 = h5py.File('reduce-train-rna.hdf5', \"r\")"
   ]
  },
  {
   "cell_type": "code",
   "execution_count": 12,
   "id": "4e34c023",
   "metadata": {},
   "outputs": [
    {
     "data": {
      "text/plain": [
       "10000"
      ]
     },
     "execution_count": 12,
     "metadata": {},
     "output_type": "execute_result"
    }
   ],
   "source": [
    "len(h5['events'])"
   ]
  },
  {
   "cell_type": "markdown",
   "id": "b5ba7cdc",
   "metadata": {},
   "source": [
    "## Run training on reduced data"
   ]
  },
  {
   "cell_type": "code",
   "execution_count": 14,
   "id": "76f0a72a",
   "metadata": {},
   "outputs": [
    {
     "name": "stdout",
     "output_type": "stream",
     "text": [
      "^C\n"
     ]
    }
   ],
   "source": [
    "!Powershell.exe -Command \"Measure-Command{python model.py -c .\\reduce-rna.config -n .\\reduce_runs_org_params -l -w 4 --rna | Out-Default}\""
   ]
  },
  {
   "cell_type": "code",
   "execution_count": null,
   "id": "593f3a45",
   "metadata": {},
   "outputs": [],
   "source": []
  }
 ],
 "metadata": {
  "kernelspec": {
   "display_name": "Python 3 (ipykernel)",
   "language": "python",
   "name": "python3"
  },
  "language_info": {
   "codemirror_mode": {
    "name": "ipython",
    "version": 3
   },
   "file_extension": ".py",
   "mimetype": "text/x-python",
   "name": "python",
   "nbconvert_exporter": "python",
   "pygments_lexer": "ipython3",
   "version": "3.9.7"
  }
 },
 "nbformat": 4,
 "nbformat_minor": 5
}
